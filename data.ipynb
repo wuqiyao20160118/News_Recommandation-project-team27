{
 "metadata": {
  "language_info": {
   "codemirror_mode": {
    "name": "ipython",
    "version": 3
   },
   "file_extension": ".py",
   "mimetype": "text/x-python",
   "name": "python",
   "nbconvert_exporter": "python",
   "pygments_lexer": "ipython3",
   "version": "3.7.6-final"
  },
  "orig_nbformat": 2,
  "kernelspec": {
   "name": "python3",
   "display_name": "Python 3",
   "language": "python"
  }
 },
 "nbformat": 4,
 "nbformat_minor": 2,
 "cells": [
  {
   "cell_type": "code",
   "execution_count": 90,
   "metadata": {},
   "outputs": [],
   "source": [
    "import pandas as pd\n",
    "import numpy as np"
   ]
  },
  {
   "cell_type": "code",
   "execution_count": null,
   "metadata": {},
   "outputs": [],
   "source": [
    "news_data=pd.read_csv('./news.tsv',header=None,sep='\\t')\n",
    "news_data.columns=['News id',\n",
    "\"Category\",\n",
    "\"SubCategory\",\n",
    "\"Title\",\n",
    "\"Abstract\",\n",
    "\"URL\",\n",
    "\"Title entities\",\n",
    "\"Abstract entities \"]"
   ]
  },
  {
   "cell_type": "code",
   "execution_count": null,
   "metadata": {},
   "outputs": [],
   "source": [
    "news_data=news_data.iloc[:,:5]\n",
    "news_data.dropna(inplace=True)\n",
    "news_data.reset_index(drop=True,inplace=True)"
   ]
  },
  {
   "cell_type": "code",
   "execution_count": null,
   "metadata": {},
   "outputs": [],
   "source": [
    "news_data.head(5)"
   ]
  },
  {
   "cell_type": "code",
   "execution_count": null,
   "metadata": {},
   "outputs": [],
   "source": []
  },
  {
   "cell_type": "code",
   "execution_count": 91,
   "metadata": {},
   "outputs": [],
   "source": [
    "behaviors_data=pd.read_csv('./behaviors.tsv',header=None,sep='\\t')"
   ]
  },
  {
   "cell_type": "code",
   "execution_count": 92,
   "metadata": {},
   "outputs": [],
   "source": [
    "behaviors_data.columns=['Impression id',\n",
    "\"User id\",\n",
    "\"Time\",\n",
    "\"History\",\n",
    "\"Impressions\"]"
   ]
  },
  {
   "cell_type": "code",
   "execution_count": 93,
   "metadata": {},
   "outputs": [],
   "source": [
    "behaviors_data.dropna(inplace=True)\n",
    "behaviors_data.reset_index(drop=True,inplace=True)"
   ]
  },
  {
   "cell_type": "code",
   "execution_count": 94,
   "metadata": {},
   "outputs": [
    {
     "output_type": "execute_result",
     "data": {
      "text/plain": [
       "   Impression id User id                   Time  \\\n",
       "0              1  U13740  11/11/2019 9:05:58 AM   \n",
       "1              2  U91836  11/12/2019 6:11:30 PM   \n",
       "2              3  U73700  11/14/2019 7:01:48 AM   \n",
       "3              4  U34670  11/11/2019 5:28:05 AM   \n",
       "4              5   U8125  11/12/2019 4:11:21 PM   \n",
       "\n",
       "                                             History  \\\n",
       "0  N55189 N42782 N34694 N45794 N18445 N63302 N104...   \n",
       "1  N31739 N6072 N63045 N23979 N35656 N43353 N8129...   \n",
       "2  N10732 N25792 N7563 N21087 N41087 N5445 N60384...   \n",
       "3  N45729 N2203 N871 N53880 N41375 N43142 N33013 ...   \n",
       "4                        N10078 N56514 N14904 N33740   \n",
       "\n",
       "                                         Impressions  \n",
       "0                                  N55689-1 N35729-0  \n",
       "1  N20678-0 N39317-0 N58114-0 N20495-0 N42977-0 N...  \n",
       "2  N50014-0 N23877-0 N35389-0 N49712-0 N16844-0 N...  \n",
       "3                N35729-0 N33632-0 N49685-1 N27581-0  \n",
       "4  N39985-0 N36050-0 N16096-0 N8400-1 N22407-0 N6...  "
      ],
      "text/html": "<div>\n<style scoped>\n    .dataframe tbody tr th:only-of-type {\n        vertical-align: middle;\n    }\n\n    .dataframe tbody tr th {\n        vertical-align: top;\n    }\n\n    .dataframe thead th {\n        text-align: right;\n    }\n</style>\n<table border=\"1\" class=\"dataframe\">\n  <thead>\n    <tr style=\"text-align: right;\">\n      <th></th>\n      <th>Impression id</th>\n      <th>User id</th>\n      <th>Time</th>\n      <th>History</th>\n      <th>Impressions</th>\n    </tr>\n  </thead>\n  <tbody>\n    <tr>\n      <th>0</th>\n      <td>1</td>\n      <td>U13740</td>\n      <td>11/11/2019 9:05:58 AM</td>\n      <td>N55189 N42782 N34694 N45794 N18445 N63302 N104...</td>\n      <td>N55689-1 N35729-0</td>\n    </tr>\n    <tr>\n      <th>1</th>\n      <td>2</td>\n      <td>U91836</td>\n      <td>11/12/2019 6:11:30 PM</td>\n      <td>N31739 N6072 N63045 N23979 N35656 N43353 N8129...</td>\n      <td>N20678-0 N39317-0 N58114-0 N20495-0 N42977-0 N...</td>\n    </tr>\n    <tr>\n      <th>2</th>\n      <td>3</td>\n      <td>U73700</td>\n      <td>11/14/2019 7:01:48 AM</td>\n      <td>N10732 N25792 N7563 N21087 N41087 N5445 N60384...</td>\n      <td>N50014-0 N23877-0 N35389-0 N49712-0 N16844-0 N...</td>\n    </tr>\n    <tr>\n      <th>3</th>\n      <td>4</td>\n      <td>U34670</td>\n      <td>11/11/2019 5:28:05 AM</td>\n      <td>N45729 N2203 N871 N53880 N41375 N43142 N33013 ...</td>\n      <td>N35729-0 N33632-0 N49685-1 N27581-0</td>\n    </tr>\n    <tr>\n      <th>4</th>\n      <td>5</td>\n      <td>U8125</td>\n      <td>11/12/2019 4:11:21 PM</td>\n      <td>N10078 N56514 N14904 N33740</td>\n      <td>N39985-0 N36050-0 N16096-0 N8400-1 N22407-0 N6...</td>\n    </tr>\n  </tbody>\n</table>\n</div>"
     },
     "metadata": {},
     "execution_count": 94
    }
   ],
   "source": [
    "behaviors_data.head(5)"
   ]
  },
  {
   "cell_type": "code",
   "execution_count": 95,
   "metadata": {},
   "outputs": [],
   "source": [
    "len_history=[]\n",
    "for i in range(len(behaviors_data)):\n",
    "    len_history.append(len(behaviors_data['History'][i].split(' ')))\n"
   ]
  },
  {
   "cell_type": "code",
   "execution_count": 96,
   "metadata": {},
   "outputs": [],
   "source": [
    "behaviors_data['Number of history']=len_history"
   ]
  },
  {
   "cell_type": "code",
   "execution_count": 97,
   "metadata": {},
   "outputs": [
    {
     "output_type": "execute_result",
     "data": {
      "text/plain": [
       "   Impression id User id                   Time  \\\n",
       "0              1  U13740  11/11/2019 9:05:58 AM   \n",
       "1              2  U91836  11/12/2019 6:11:30 PM   \n",
       "2              3  U73700  11/14/2019 7:01:48 AM   \n",
       "3              4  U34670  11/11/2019 5:28:05 AM   \n",
       "4              5   U8125  11/12/2019 4:11:21 PM   \n",
       "\n",
       "                                             History  \\\n",
       "0  N55189 N42782 N34694 N45794 N18445 N63302 N104...   \n",
       "1  N31739 N6072 N63045 N23979 N35656 N43353 N8129...   \n",
       "2  N10732 N25792 N7563 N21087 N41087 N5445 N60384...   \n",
       "3  N45729 N2203 N871 N53880 N41375 N43142 N33013 ...   \n",
       "4                        N10078 N56514 N14904 N33740   \n",
       "\n",
       "                                         Impressions  Number of history  \n",
       "0                                  N55689-1 N35729-0                  9  \n",
       "1  N20678-0 N39317-0 N58114-0 N20495-0 N42977-0 N...                 82  \n",
       "2  N50014-0 N23877-0 N35389-0 N49712-0 N16844-0 N...                 16  \n",
       "3                N35729-0 N33632-0 N49685-1 N27581-0                 10  \n",
       "4  N39985-0 N36050-0 N16096-0 N8400-1 N22407-0 N6...                  4  "
      ],
      "text/html": "<div>\n<style scoped>\n    .dataframe tbody tr th:only-of-type {\n        vertical-align: middle;\n    }\n\n    .dataframe tbody tr th {\n        vertical-align: top;\n    }\n\n    .dataframe thead th {\n        text-align: right;\n    }\n</style>\n<table border=\"1\" class=\"dataframe\">\n  <thead>\n    <tr style=\"text-align: right;\">\n      <th></th>\n      <th>Impression id</th>\n      <th>User id</th>\n      <th>Time</th>\n      <th>History</th>\n      <th>Impressions</th>\n      <th>Number of history</th>\n    </tr>\n  </thead>\n  <tbody>\n    <tr>\n      <th>0</th>\n      <td>1</td>\n      <td>U13740</td>\n      <td>11/11/2019 9:05:58 AM</td>\n      <td>N55189 N42782 N34694 N45794 N18445 N63302 N104...</td>\n      <td>N55689-1 N35729-0</td>\n      <td>9</td>\n    </tr>\n    <tr>\n      <th>1</th>\n      <td>2</td>\n      <td>U91836</td>\n      <td>11/12/2019 6:11:30 PM</td>\n      <td>N31739 N6072 N63045 N23979 N35656 N43353 N8129...</td>\n      <td>N20678-0 N39317-0 N58114-0 N20495-0 N42977-0 N...</td>\n      <td>82</td>\n    </tr>\n    <tr>\n      <th>2</th>\n      <td>3</td>\n      <td>U73700</td>\n      <td>11/14/2019 7:01:48 AM</td>\n      <td>N10732 N25792 N7563 N21087 N41087 N5445 N60384...</td>\n      <td>N50014-0 N23877-0 N35389-0 N49712-0 N16844-0 N...</td>\n      <td>16</td>\n    </tr>\n    <tr>\n      <th>3</th>\n      <td>4</td>\n      <td>U34670</td>\n      <td>11/11/2019 5:28:05 AM</td>\n      <td>N45729 N2203 N871 N53880 N41375 N43142 N33013 ...</td>\n      <td>N35729-0 N33632-0 N49685-1 N27581-0</td>\n      <td>10</td>\n    </tr>\n    <tr>\n      <th>4</th>\n      <td>5</td>\n      <td>U8125</td>\n      <td>11/12/2019 4:11:21 PM</td>\n      <td>N10078 N56514 N14904 N33740</td>\n      <td>N39985-0 N36050-0 N16096-0 N8400-1 N22407-0 N6...</td>\n      <td>4</td>\n    </tr>\n  </tbody>\n</table>\n</div>"
     },
     "metadata": {},
     "execution_count": 97
    }
   ],
   "source": [
    "behaviors_data.head(5)"
   ]
  },
  {
   "cell_type": "code",
   "execution_count": 99,
   "metadata": {
    "tags": []
   },
   "outputs": [
    {
     "output_type": "stream",
     "name": "stdout",
     "text": [
      "0\n",
      "10000\n",
      "20000\n",
      "30000\n",
      "40000\n",
      "50000\n",
      "60000\n",
      "70000\n",
      "80000\n",
      "90000\n",
      "100000\n",
      "110000\n",
      "120000\n",
      "130000\n",
      "140000\n",
      "150000\n"
     ]
    }
   ],
   "source": [
    "category_history=[]\n",
    "sub_category_history=[]\n",
    "for i in range(len(behaviors_data)):\n",
    "    #len_history.append(len(behaviors_data['History'][i].split(' ')))\n",
    "    history_list=behaviors_data['History'][i].split(' ')\n",
    "    #temp_list=[]\n",
    "    #for j in range(len(history_list)):\n",
    "    #temp_list.append(news_data[news_data['News id']==history_list[j]]['Category'])\n",
    "    temp=' '.join(news_data[news_data['News id'].isin(history_list)]['Category'])\n",
    "    category_history.append(temp)\n",
    "    #print(i)\n",
    "    \n",
    "    temp=' '.join(news_data[news_data['News id'].isin(history_list)]['SubCategory'])\n",
    "    sub_category_history.append(temp)\n",
    "\n",
    "    if i%10000==0:\n",
    "        print(i)\n"
   ]
  },
  {
   "cell_type": "code",
   "execution_count": 100,
   "metadata": {},
   "outputs": [],
   "source": [
    "behaviors_data['History category']=category_history\n",
    "behaviors_data['History subcategory']=sub_category_history"
   ]
  },
  {
   "cell_type": "code",
   "execution_count": 101,
   "metadata": {},
   "outputs": [
    {
     "output_type": "execute_result",
     "data": {
      "text/plain": [
       "   Impression id User id                   Time  \\\n",
       "0              1  U13740  11/11/2019 9:05:58 AM   \n",
       "1              2  U91836  11/12/2019 6:11:30 PM   \n",
       "2              3  U73700  11/14/2019 7:01:48 AM   \n",
       "3              4  U34670  11/11/2019 5:28:05 AM   \n",
       "4              5   U8125  11/12/2019 4:11:21 PM   \n",
       "\n",
       "                                             History  \\\n",
       "0  N55189 N42782 N34694 N45794 N18445 N63302 N104...   \n",
       "1  N31739 N6072 N63045 N23979 N35656 N43353 N8129...   \n",
       "2  N10732 N25792 N7563 N21087 N41087 N5445 N60384...   \n",
       "3  N45729 N2203 N871 N53880 N41375 N43142 N33013 ...   \n",
       "4                        N10078 N56514 N14904 N33740   \n",
       "\n",
       "                                         Impressions  Number of history  \\\n",
       "0                                  N55689-1 N35729-0                  9   \n",
       "1  N20678-0 N39317-0 N58114-0 N20495-0 N42977-0 N...                 82   \n",
       "2  N50014-0 N23877-0 N35389-0 N49712-0 N16844-0 N...                 16   \n",
       "3                N35729-0 N33632-0 N49685-1 N27581-0                 10   \n",
       "4  N39985-0 N36050-0 N16096-0 N8400-1 N22407-0 N6...                  4   \n",
       "\n",
       "                                    History category  \\\n",
       "0  news lifestyle tv sports news movies tv news s...   \n",
       "1  foodanddrink news news news sports news news t...   \n",
       "2  lifestyle lifestyle sports tv news lifestyle f...   \n",
       "3  finance tv lifestyle sports video sports finan...   \n",
       "4                        travel autos weather health   \n",
       "\n",
       "                                 History subcategory  \n",
       "0  newspolitics lifestylebuzz tvnews baseball_mlb...  \n",
       "1  restaurantsandnews newscrime newsus newsus box...  \n",
       "2  lifestylehomeandgarden lifestylebuzz football_...  \n",
       "3  markets tv-celebrity lifestylebuzz basketball_...  \n",
       "4  travelnews autosownership weathertopstories we...  "
      ],
      "text/html": "<div>\n<style scoped>\n    .dataframe tbody tr th:only-of-type {\n        vertical-align: middle;\n    }\n\n    .dataframe tbody tr th {\n        vertical-align: top;\n    }\n\n    .dataframe thead th {\n        text-align: right;\n    }\n</style>\n<table border=\"1\" class=\"dataframe\">\n  <thead>\n    <tr style=\"text-align: right;\">\n      <th></th>\n      <th>Impression id</th>\n      <th>User id</th>\n      <th>Time</th>\n      <th>History</th>\n      <th>Impressions</th>\n      <th>Number of history</th>\n      <th>History category</th>\n      <th>History subcategory</th>\n    </tr>\n  </thead>\n  <tbody>\n    <tr>\n      <th>0</th>\n      <td>1</td>\n      <td>U13740</td>\n      <td>11/11/2019 9:05:58 AM</td>\n      <td>N55189 N42782 N34694 N45794 N18445 N63302 N104...</td>\n      <td>N55689-1 N35729-0</td>\n      <td>9</td>\n      <td>news lifestyle tv sports news movies tv news s...</td>\n      <td>newspolitics lifestylebuzz tvnews baseball_mlb...</td>\n    </tr>\n    <tr>\n      <th>1</th>\n      <td>2</td>\n      <td>U91836</td>\n      <td>11/12/2019 6:11:30 PM</td>\n      <td>N31739 N6072 N63045 N23979 N35656 N43353 N8129...</td>\n      <td>N20678-0 N39317-0 N58114-0 N20495-0 N42977-0 N...</td>\n      <td>82</td>\n      <td>foodanddrink news news news sports news news t...</td>\n      <td>restaurantsandnews newscrime newsus newsus box...</td>\n    </tr>\n    <tr>\n      <th>2</th>\n      <td>3</td>\n      <td>U73700</td>\n      <td>11/14/2019 7:01:48 AM</td>\n      <td>N10732 N25792 N7563 N21087 N41087 N5445 N60384...</td>\n      <td>N50014-0 N23877-0 N35389-0 N49712-0 N16844-0 N...</td>\n      <td>16</td>\n      <td>lifestyle lifestyle sports tv news lifestyle f...</td>\n      <td>lifestylehomeandgarden lifestylebuzz football_...</td>\n    </tr>\n    <tr>\n      <th>3</th>\n      <td>4</td>\n      <td>U34670</td>\n      <td>11/11/2019 5:28:05 AM</td>\n      <td>N45729 N2203 N871 N53880 N41375 N43142 N33013 ...</td>\n      <td>N35729-0 N33632-0 N49685-1 N27581-0</td>\n      <td>10</td>\n      <td>finance tv lifestyle sports video sports finan...</td>\n      <td>markets tv-celebrity lifestylebuzz basketball_...</td>\n    </tr>\n    <tr>\n      <th>4</th>\n      <td>5</td>\n      <td>U8125</td>\n      <td>11/12/2019 4:11:21 PM</td>\n      <td>N10078 N56514 N14904 N33740</td>\n      <td>N39985-0 N36050-0 N16096-0 N8400-1 N22407-0 N6...</td>\n      <td>4</td>\n      <td>travel autos weather health</td>\n      <td>travelnews autosownership weathertopstories we...</td>\n    </tr>\n  </tbody>\n</table>\n</div>"
     },
     "metadata": {},
     "execution_count": 101
    }
   ],
   "source": [
    "behaviors_data.head(5)"
   ]
  },
  {
   "cell_type": "code",
   "execution_count": 102,
   "metadata": {},
   "outputs": [],
   "source": [
    "behaviors_data.to_csv('behaviors1.csv', index=False, header=True )"
   ]
  },
  {
   "cell_type": "code",
   "execution_count": 108,
   "metadata": {},
   "outputs": [
    {
     "output_type": "execute_result",
     "data": {
      "text/plain": [
       "0          11/11/2019 9:05:58 AM\n",
       "1          11/12/2019 6:11:30 PM\n",
       "2          11/14/2019 7:01:48 AM\n",
       "3          11/11/2019 5:28:05 AM\n",
       "4          11/12/2019 4:11:21 PM\n",
       "                   ...          \n",
       "153722    11/14/2019 10:24:05 PM\n",
       "153723     11/13/2019 6:57:04 AM\n",
       "153724    11/14/2019 10:58:13 AM\n",
       "153725     11/13/2019 2:57:02 PM\n",
       "153726     11/14/2019 3:25:49 PM\n",
       "Name: Time, Length: 153727, dtype: object"
      ]
     },
     "metadata": {},
     "execution_count": 108
    }
   ],
   "source": [
    "behaviors_data['Time']"
   ]
  },
  {
   "cell_type": "code",
   "execution_count": 114,
   "metadata": {},
   "outputs": [
    {
     "output_type": "stream",
     "name": "stdout",
     "text": [
      "0\n",
      "10000\n",
      "20000\n",
      "30000\n",
      "40000\n",
      "50000\n",
      "60000\n",
      "70000\n",
      "80000\n",
      "90000\n",
      "100000\n",
      "110000\n",
      "120000\n",
      "130000\n",
      "140000\n",
      "150000\n"
     ]
    }
   ],
   "source": [
    "time=[]\n",
    "for i in range(len(behaviors_data)):\n",
    "    #len_history.append(len(behaviors_data['History'][i].split(' ')))\n",
    "    hour=int(behaviors_data['Time'][i].split(' ')[1].split(':')[0])\n",
    "    ap=behaviors_data['Time'][i].split(' ')[2]\n",
    "    if 6<=hour<12 and ap == 'AM': #Morning\n",
    "        t=0\n",
    "    if 0<=hour<6 and ap== 'PM': #Afternoon\n",
    "        t=1\n",
    "    if 6<=hour<12 and ap=='PM': #Evening\n",
    "        t=2\n",
    "    if 0<=hour<6 and ap=='AM': #Night\n",
    "        t=3 \n",
    "\n",
    "    time.append(t)\n",
    "\n",
    "    if i%10000==0:\n",
    "        print(i)"
   ]
  },
  {
   "cell_type": "code",
   "execution_count": 115,
   "metadata": {},
   "outputs": [],
   "source": [
    "behaviors_data['Time category']=time"
   ]
  },
  {
   "cell_type": "code",
   "execution_count": 173,
   "metadata": {},
   "outputs": [
    {
     "output_type": "execute_result",
     "data": {
      "text/plain": [
       "0                                         N55689-1 N35729-0\n",
       "34577     N20020-0 N3737-0 N43202-0 N18708-0 N30125-0 N3...\n",
       "151651    N13907-0 N8509-0 N47061-0 N51048-0 N22417-0 N3...\n",
       "Name: Impressions, dtype: object"
      ]
     },
     "metadata": {},
     "execution_count": 173
    }
   ],
   "source": [
    "behaviors_data[behaviors_data['User id']=='U13740']['Impressions']"
   ]
  },
  {
   "cell_type": "code",
   "execution_count": 176,
   "metadata": {},
   "outputs": [
    {
     "output_type": "stream",
     "name": "stdout",
     "text": [
      "0\n",
      "10000\n",
      "20000\n",
      "30000\n",
      "40000\n",
      "50000\n",
      "60000\n",
      "70000\n",
      "80000\n",
      "90000\n",
      "100000\n",
      "110000\n",
      "120000\n",
      "130000\n",
      "140000\n",
      "150000\n"
     ]
    }
   ],
   "source": [
    "impressions={}\n",
    "for i in range(len(behaviors_data)):\n",
    "     \n",
    "    userid=behaviors_data['User id'][i]\n",
    "    \n",
    "    temp=('-'.join(behaviors_data['Impressions'][i].split(' '))).split('-')[1::2]\n",
    "    i_list=list(map(int,temp))\n",
    "\n",
    "    if userid in impressions.keys():\n",
    "        impressions[userid]=impressions[userid]+i_list\n",
    "    else:\n",
    "        impressions[userid]=i_list\n"
   ]
  },
  {
   "cell_type": "code",
   "execution_count": 179,
   "metadata": {},
   "outputs": [],
   "source": [
    "impressions_rate=[]\n",
    "for i in range(len(behaviors_data)):\n",
    "     \n",
    "    userid=behaviors_data['User id'][i]\n",
    "    \n",
    "    impressions_rate.append(sum(impressions[userid])/len(impressions[userid]))"
   ]
  },
  {
   "cell_type": "code",
   "execution_count": 180,
   "metadata": {},
   "outputs": [],
   "source": [
    "behaviors_data['Impressions_rate']=impressions_rate"
   ]
  },
  {
   "cell_type": "code",
   "execution_count": 181,
   "metadata": {},
   "outputs": [
    {
     "output_type": "execute_result",
     "data": {
      "text/plain": [
       "   Impression id User id                   Time  \\\n",
       "0              1  U13740  11/11/2019 9:05:58 AM   \n",
       "1              2  U91836  11/12/2019 6:11:30 PM   \n",
       "2              3  U73700  11/14/2019 7:01:48 AM   \n",
       "3              4  U34670  11/11/2019 5:28:05 AM   \n",
       "4              5   U8125  11/12/2019 4:11:21 PM   \n",
       "\n",
       "                                             History  \\\n",
       "0  N55189 N42782 N34694 N45794 N18445 N63302 N104...   \n",
       "1  N31739 N6072 N63045 N23979 N35656 N43353 N8129...   \n",
       "2  N10732 N25792 N7563 N21087 N41087 N5445 N60384...   \n",
       "3  N45729 N2203 N871 N53880 N41375 N43142 N33013 ...   \n",
       "4                        N10078 N56514 N14904 N33740   \n",
       "\n",
       "                                         Impressions  Number of history  \\\n",
       "0                                  N55689-1 N35729-0                  9   \n",
       "1  N20678-0 N39317-0 N58114-0 N20495-0 N42977-0 N...                 82   \n",
       "2  N50014-0 N23877-0 N35389-0 N49712-0 N16844-0 N...                 16   \n",
       "3                N35729-0 N33632-0 N49685-1 N27581-0                 10   \n",
       "4  N39985-0 N36050-0 N16096-0 N8400-1 N22407-0 N6...                  4   \n",
       "\n",
       "                                    History category  \\\n",
       "0  news lifestyle tv sports news movies tv news s...   \n",
       "1  foodanddrink news news news sports news news t...   \n",
       "2  lifestyle lifestyle sports tv news lifestyle f...   \n",
       "3  finance tv lifestyle sports video sports finan...   \n",
       "4                        travel autos weather health   \n",
       "\n",
       "                                 History subcategory  Time category  \\\n",
       "0  newspolitics lifestylebuzz tvnews baseball_mlb...              0   \n",
       "1  restaurantsandnews newscrime newsus newsus box...              2   \n",
       "2  lifestylehomeandgarden lifestylebuzz football_...              0   \n",
       "3  markets tv-celebrity lifestylebuzz basketball_...              3   \n",
       "4  travelnews autosownership weathertopstories we...              1   \n",
       "\n",
       "   Impressions_rate  \n",
       "0          0.009494  \n",
       "1          0.051282  \n",
       "2          0.045455  \n",
       "3          0.142857  \n",
       "4          0.014493  "
      ],
      "text/html": "<div>\n<style scoped>\n    .dataframe tbody tr th:only-of-type {\n        vertical-align: middle;\n    }\n\n    .dataframe tbody tr th {\n        vertical-align: top;\n    }\n\n    .dataframe thead th {\n        text-align: right;\n    }\n</style>\n<table border=\"1\" class=\"dataframe\">\n  <thead>\n    <tr style=\"text-align: right;\">\n      <th></th>\n      <th>Impression id</th>\n      <th>User id</th>\n      <th>Time</th>\n      <th>History</th>\n      <th>Impressions</th>\n      <th>Number of history</th>\n      <th>History category</th>\n      <th>History subcategory</th>\n      <th>Time category</th>\n      <th>Impressions_rate</th>\n    </tr>\n  </thead>\n  <tbody>\n    <tr>\n      <th>0</th>\n      <td>1</td>\n      <td>U13740</td>\n      <td>11/11/2019 9:05:58 AM</td>\n      <td>N55189 N42782 N34694 N45794 N18445 N63302 N104...</td>\n      <td>N55689-1 N35729-0</td>\n      <td>9</td>\n      <td>news lifestyle tv sports news movies tv news s...</td>\n      <td>newspolitics lifestylebuzz tvnews baseball_mlb...</td>\n      <td>0</td>\n      <td>0.009494</td>\n    </tr>\n    <tr>\n      <th>1</th>\n      <td>2</td>\n      <td>U91836</td>\n      <td>11/12/2019 6:11:30 PM</td>\n      <td>N31739 N6072 N63045 N23979 N35656 N43353 N8129...</td>\n      <td>N20678-0 N39317-0 N58114-0 N20495-0 N42977-0 N...</td>\n      <td>82</td>\n      <td>foodanddrink news news news sports news news t...</td>\n      <td>restaurantsandnews newscrime newsus newsus box...</td>\n      <td>2</td>\n      <td>0.051282</td>\n    </tr>\n    <tr>\n      <th>2</th>\n      <td>3</td>\n      <td>U73700</td>\n      <td>11/14/2019 7:01:48 AM</td>\n      <td>N10732 N25792 N7563 N21087 N41087 N5445 N60384...</td>\n      <td>N50014-0 N23877-0 N35389-0 N49712-0 N16844-0 N...</td>\n      <td>16</td>\n      <td>lifestyle lifestyle sports tv news lifestyle f...</td>\n      <td>lifestylehomeandgarden lifestylebuzz football_...</td>\n      <td>0</td>\n      <td>0.045455</td>\n    </tr>\n    <tr>\n      <th>3</th>\n      <td>4</td>\n      <td>U34670</td>\n      <td>11/11/2019 5:28:05 AM</td>\n      <td>N45729 N2203 N871 N53880 N41375 N43142 N33013 ...</td>\n      <td>N35729-0 N33632-0 N49685-1 N27581-0</td>\n      <td>10</td>\n      <td>finance tv lifestyle sports video sports finan...</td>\n      <td>markets tv-celebrity lifestylebuzz basketball_...</td>\n      <td>3</td>\n      <td>0.142857</td>\n    </tr>\n    <tr>\n      <th>4</th>\n      <td>5</td>\n      <td>U8125</td>\n      <td>11/12/2019 4:11:21 PM</td>\n      <td>N10078 N56514 N14904 N33740</td>\n      <td>N39985-0 N36050-0 N16096-0 N8400-1 N22407-0 N6...</td>\n      <td>4</td>\n      <td>travel autos weather health</td>\n      <td>travelnews autosownership weathertopstories we...</td>\n      <td>1</td>\n      <td>0.014493</td>\n    </tr>\n  </tbody>\n</table>\n</div>"
     },
     "metadata": {},
     "execution_count": 181
    }
   ],
   "source": [
    "behaviors_data.head(5)"
   ]
  },
  {
   "cell_type": "code",
   "execution_count": 182,
   "metadata": {},
   "outputs": [],
   "source": [
    "behaviors_data.to_csv('behaviors2.csv', index=False, header=True )"
   ]
  },
  {
   "cell_type": "code",
   "execution_count": 73,
   "metadata": {},
   "outputs": [
    {
     "output_type": "execute_result",
     "data": {
      "text/plain": [
       "   Impression id User id                   Time  \\\n",
       "0              1  U13740  11/11/2019 9:05:58 AM   \n",
       "1              2  U91836  11/12/2019 6:11:30 PM   \n",
       "2              3  U73700  11/14/2019 7:01:48 AM   \n",
       "3              4  U34670  11/11/2019 5:28:05 AM   \n",
       "4              5   U8125  11/12/2019 4:11:21 PM   \n",
       "\n",
       "                                             History  \\\n",
       "0  N55189 N42782 N34694 N45794 N18445 N63302 N104...   \n",
       "1  N31739 N6072 N63045 N23979 N35656 N43353 N8129...   \n",
       "2  N10732 N25792 N7563 N21087 N41087 N5445 N60384...   \n",
       "3  N45729 N2203 N871 N53880 N41375 N43142 N33013 ...   \n",
       "4                        N10078 N56514 N14904 N33740   \n",
       "\n",
       "                                         Impressions  Number of history  \\\n",
       "0                                  N55689-1 N35729-0                  9   \n",
       "1  N20678-0 N39317-0 N58114-0 N20495-0 N42977-0 N...                 82   \n",
       "2  N50014-0 N23877-0 N35389-0 N49712-0 N16844-0 N...                 16   \n",
       "3                N35729-0 N33632-0 N49685-1 N27581-0                 10   \n",
       "4  N39985-0 N36050-0 N16096-0 N8400-1 N22407-0 N6...                  4   \n",
       "\n",
       "                                    History category  \\\n",
       "0  ['news', 'lifestyle', 'tv', 'sports', 'news', ...   \n",
       "1  ['foodanddrink', 'news', 'news', 'news', 'spor...   \n",
       "2  ['lifestyle', 'lifestyle', 'sports', 'tv', 'ne...   \n",
       "3  ['finance', 'tv', 'lifestyle', 'sports', 'vide...   \n",
       "4           ['travel', 'autos', 'weather', 'health']   \n",
       "\n",
       "                                 History subcategory  \n",
       "0  ['newspolitics', 'lifestylebuzz', 'tvnews', 'b...  \n",
       "1  ['restaurantsandnews', 'newscrime', 'newsus', ...  \n",
       "2  ['lifestylehomeandgarden', 'lifestylebuzz', 'f...  \n",
       "3  ['markets', 'tv-celebrity', 'lifestylebuzz', '...  \n",
       "4  ['travelnews', 'autosownership', 'weathertopst...  "
      ],
      "text/html": "<div>\n<style scoped>\n    .dataframe tbody tr th:only-of-type {\n        vertical-align: middle;\n    }\n\n    .dataframe tbody tr th {\n        vertical-align: top;\n    }\n\n    .dataframe thead th {\n        text-align: right;\n    }\n</style>\n<table border=\"1\" class=\"dataframe\">\n  <thead>\n    <tr style=\"text-align: right;\">\n      <th></th>\n      <th>Impression id</th>\n      <th>User id</th>\n      <th>Time</th>\n      <th>History</th>\n      <th>Impressions</th>\n      <th>Number of history</th>\n      <th>History category</th>\n      <th>History subcategory</th>\n    </tr>\n  </thead>\n  <tbody>\n    <tr>\n      <th>0</th>\n      <td>1</td>\n      <td>U13740</td>\n      <td>11/11/2019 9:05:58 AM</td>\n      <td>N55189 N42782 N34694 N45794 N18445 N63302 N104...</td>\n      <td>N55689-1 N35729-0</td>\n      <td>9</td>\n      <td>['news', 'lifestyle', 'tv', 'sports', 'news', ...</td>\n      <td>['newspolitics', 'lifestylebuzz', 'tvnews', 'b...</td>\n    </tr>\n    <tr>\n      <th>1</th>\n      <td>2</td>\n      <td>U91836</td>\n      <td>11/12/2019 6:11:30 PM</td>\n      <td>N31739 N6072 N63045 N23979 N35656 N43353 N8129...</td>\n      <td>N20678-0 N39317-0 N58114-0 N20495-0 N42977-0 N...</td>\n      <td>82</td>\n      <td>['foodanddrink', 'news', 'news', 'news', 'spor...</td>\n      <td>['restaurantsandnews', 'newscrime', 'newsus', ...</td>\n    </tr>\n    <tr>\n      <th>2</th>\n      <td>3</td>\n      <td>U73700</td>\n      <td>11/14/2019 7:01:48 AM</td>\n      <td>N10732 N25792 N7563 N21087 N41087 N5445 N60384...</td>\n      <td>N50014-0 N23877-0 N35389-0 N49712-0 N16844-0 N...</td>\n      <td>16</td>\n      <td>['lifestyle', 'lifestyle', 'sports', 'tv', 'ne...</td>\n      <td>['lifestylehomeandgarden', 'lifestylebuzz', 'f...</td>\n    </tr>\n    <tr>\n      <th>3</th>\n      <td>4</td>\n      <td>U34670</td>\n      <td>11/11/2019 5:28:05 AM</td>\n      <td>N45729 N2203 N871 N53880 N41375 N43142 N33013 ...</td>\n      <td>N35729-0 N33632-0 N49685-1 N27581-0</td>\n      <td>10</td>\n      <td>['finance', 'tv', 'lifestyle', 'sports', 'vide...</td>\n      <td>['markets', 'tv-celebrity', 'lifestylebuzz', '...</td>\n    </tr>\n    <tr>\n      <th>4</th>\n      <td>5</td>\n      <td>U8125</td>\n      <td>11/12/2019 4:11:21 PM</td>\n      <td>N10078 N56514 N14904 N33740</td>\n      <td>N39985-0 N36050-0 N16096-0 N8400-1 N22407-0 N6...</td>\n      <td>4</td>\n      <td>['travel', 'autos', 'weather', 'health']</td>\n      <td>['travelnews', 'autosownership', 'weathertopst...</td>\n    </tr>\n  </tbody>\n</table>\n</div>"
     },
     "metadata": {},
     "execution_count": 73
    }
   ],
   "source": [
    "behaviors_data.head(5)"
   ]
  },
  {
   "cell_type": "code",
   "execution_count": 9,
   "metadata": {},
   "outputs": [],
   "source": []
  },
  {
   "cell_type": "code",
   "execution_count": 11,
   "metadata": {},
   "outputs": [],
   "source": []
  }
 ]
}